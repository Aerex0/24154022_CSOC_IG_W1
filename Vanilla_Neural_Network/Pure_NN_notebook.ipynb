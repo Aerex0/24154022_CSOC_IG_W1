{
  "cells": [
    {
      "cell_type": "code",
      "execution_count": null,
      "metadata": {
        "id": "H9j0Yc6xBtC8"
      },
      "outputs": [],
      "source": [
        "import pandas as pd\n",
        "import numpy as np\n",
        "import matplotlib.pyplot as plt\n",
        "import time"
      ]
    },
    {
      "cell_type": "code",
      "execution_count": null,
      "metadata": {
        "id": "tP3IEzacEJGU"
      },
      "outputs": [],
      "source": [
        "path = \"/content/drive/MyDrive/Dataset/KaggleV2-May-2016.csv\"\n",
        "df = pd.read_csv(path)\n",
        "df = df.copy()"
      ]
    },
    {
      "cell_type": "code",
      "execution_count": null,
      "metadata": {
        "id": "qvbpXnunEVi-"
      },
      "outputs": [],
      "source": [
        "df.drop(['PatientId', 'AppointmentID'], axis=1, inplace=True)\n",
        "df['No-show'] = df['No-show'].map({'No': 0, 'Yes': 1})\n",
        "df['Gender'] = df['Gender'].map({'M': 0, 'F': 1})"
      ]
    },
    {
      "cell_type": "code",
      "execution_count": null,
      "metadata": {
        "colab": {
          "base_uri": "https://localhost:8080/"
        },
        "id": "HfI5S15qE3qs",
        "outputId": "995c5163-e3c0-41d7-ccf8-37ac97c4dc06"
      },
      "outputs": [
        {
          "output_type": "stream",
          "name": "stdout",
          "text": [
            "Gender                int64\n",
            "Age                   int64\n",
            "Scholarship           int64\n",
            "Hipertension          int64\n",
            "Diabetes              int64\n",
            "Handcap               int64\n",
            "SMS_received          int64\n",
            "WaitingTime           int64\n",
            "AppointmentWeekday    int32\n",
            "dtype: object\n"
          ]
        }
      ],
      "source": [
        "df['ScheduledDay'] = pd.to_datetime(df['ScheduledDay'])\n",
        "df['AppointmentDay'] = pd.to_datetime(df['AppointmentDay'])\n",
        "df['WaitingTime'] = (df['AppointmentDay'] - df['ScheduledDay']).dt.days\n",
        "\n",
        "df = df[df['WaitingTime'] >= 0].copy()\n",
        "df.loc[:, 'AppointmentWeekday'] = df['AppointmentDay'].dt.dayofweek\n",
        "# df.loc[:, 'Neighbourhood'] = pd.factorize(df['Neighbourhood'])[0]\n",
        "\n",
        "# df['Neighbourhood'] = pd.factorize(df['Neighbourhood'])[0]\n",
        "# print(df['Neighbourhood'].dtype)\n",
        "\n",
        "\n",
        "\n",
        "features = [\n",
        "    'Gender', 'Age',  'Scholarship',\n",
        "    'Hipertension', 'Diabetes' , 'Handcap',\n",
        "    'SMS_received', 'WaitingTime', 'AppointmentWeekday'\n",
        "]\n",
        "# print(df[features].isnull().sum())\n",
        "# print(np.isinf(df[features]).sum())\n",
        "print(df[features].dtypes)\n"
      ]
    },
    {
      "cell_type": "code",
      "execution_count": null,
      "metadata": {
        "id": "j1_JIj9sFASR"
      },
      "outputs": [],
      "source": [
        "X = df[features].to_numpy()\n",
        "y = df['No-show'].to_numpy()\n",
        "X_mean = X.mean(axis=0)\n",
        "X_std = X.std(axis=0)\n",
        "X_std[X_std == 0] = 1\n",
        "\n",
        "X_scaled = (X - X_mean) / X_std\n",
        "\n",
        "# --------------------  Shuffle and Split --------------------\n",
        "np.random.seed(42)\n",
        "indices = np.arange(X_scaled.shape[0])\n",
        "np.random.shuffle(indices)\n",
        "\n",
        "# 80-20 split\n",
        "split_idx = int(0.8 * len(indices))\n",
        "train_idx, val_idx = indices[:split_idx], indices[split_idx:]\n",
        "\n",
        "X_train, y_train = X_scaled[train_idx], y[train_idx]\n",
        "X_val, y_val = X_scaled[val_idx], y[val_idx]"
      ]
    },
    {
      "cell_type": "code",
      "execution_count": null,
      "metadata": {
        "colab": {
          "base_uri": "https://localhost:8080/"
        },
        "id": "GlaR01KFG0l7",
        "outputId": "831eebd3-0aeb-4f2e-d666-f01d00cf070e"
      },
      "outputs": [
        {
          "output_type": "stream",
          "name": "stdout",
          "text": [
            "1 2.5222099853157123\n"
          ]
        }
      ],
      "source": [
        "num_pos = np.sum(y_train)\n",
        "num_neg = len(y_train) - num_pos\n",
        "\n",
        "w0 = 1\n",
        "w1 = num_neg / (num_pos)\n",
        "\n",
        "\n",
        "print(w0,w1)"
      ]
    },
    {
      "cell_type": "code",
      "source": [
        "# w0 = len(y_train) / (2 * num_neg)\n",
        "# w1 = len(y_train) / (2 * num_pos)\n",
        "# print(w0, w1)"
      ],
      "metadata": {
        "id": "dRpKPrRYvAaL"
      },
      "execution_count": null,
      "outputs": []
    },
    {
      "cell_type": "code",
      "source": [
        "print(num_pos)\n",
        "print(num_neg)"
      ],
      "metadata": {
        "colab": {
          "base_uri": "https://localhost:8080/"
        },
        "id": "sKVaNEZqt1xA",
        "outputId": "d7c0fc39-df63-4308-c622-1190e60d4072"
      },
      "execution_count": null,
      "outputs": [
        {
          "output_type": "stream",
          "name": "stdout",
          "text": [
            "16344\n",
            "41223\n"
          ]
        }
      ]
    },
    {
      "cell_type": "code",
      "execution_count": null,
      "metadata": {
        "id": "Ysxvu5fSEcVW"
      },
      "outputs": [],
      "source": [
        "def he_initialization(n_in, n_out):\n",
        "    std_dev = np.sqrt(2.0 / n_in)\n",
        "    return np.random.randn(n_in, n_out) * std_dev\n"
      ]
    },
    {
      "cell_type": "code",
      "execution_count": null,
      "metadata": {
        "id": "yWzUT2KCEe0Y"
      },
      "outputs": [],
      "source": [
        "def xavier_initialization(n_in, n_out):\n",
        "    limit = np.sqrt(6.0 / (n_in + n_out))\n",
        "    return np.random.uniform(-limit, limit, (n_in, n_out))\n"
      ]
    },
    {
      "cell_type": "code",
      "execution_count": null,
      "metadata": {
        "id": "1uZ8yPyXHIxW"
      },
      "outputs": [],
      "source": [
        "class Layer_Dense:\n",
        "\n",
        "    def __init__(self, n_inputs, n_neurons, initialization):\n",
        "        if initialization == 'he':\n",
        "            self.weights = he_initialization(n_inputs, n_neurons)\n",
        "        elif initialization == 'xavier':\n",
        "            self.weights = xavier_initialization(n_inputs, n_neurons)\n",
        "        # self.weights = 0.01 * np.random.randn(n_inputs, n_neurons)\n",
        "        self.biases = np.zeros((1, n_neurons))\n",
        "\n",
        "    def forward(self, inputs):\n",
        "        self.inputs = inputs\n",
        "        self.outputs = np.dot(inputs, self.weights) +  self.biases\n",
        "\n",
        "    def backward(self, dvalues):\n",
        "        self.dweights = np.dot(self.inputs.T, dvalues)\n",
        "        self.dbiases = np.sum(dvalues, axis=0, keepdims=True)\n",
        "        self.dinputs = np.dot(dvalues, self.weights.T)"
      ]
    },
    {
      "cell_type": "code",
      "execution_count": null,
      "metadata": {
        "id": "r4bDqH_MHZek"
      },
      "outputs": [],
      "source": [
        "class Activation_ReLU:\n",
        "\n",
        "    def forward(self, inputs):\n",
        "        self.inputs = inputs\n",
        "\n",
        "        self.output = np.maximum(0,inputs)\n",
        "\n",
        "    def backward(self, dvalues):\n",
        "        self.dinputs = dvalues.copy()\n",
        "\n",
        "        self.dinputs[self.inputs <= 0] = 0\n",
        "\n",
        "\n",
        "class Sigmoid_Activation:\n",
        "\n",
        "    def forward(self, inputs):\n",
        "        self.inputs = inputs\n",
        "        self.output = 1 / (1 + np.exp(-inputs))\n",
        "\n",
        "    def backward(self, dvalues):\n",
        "        self.dinputs = dvalues * (1 - self.output ) * self.output"
      ]
    },
    {
      "cell_type": "code",
      "execution_count": null,
      "metadata": {
        "id": "724-M7moHZ_V"
      },
      "outputs": [],
      "source": [
        "class wieghted_binarycrossentropy():\n",
        "    def forward(self, y_pred, y_true):\n",
        "        y_pred_clipped = np.clip(y_pred, 1e-7, 1 - 1e-7)\n",
        "        sample_losses = -(w1 * y_true * np.log(y_pred_clipped) + w0 * (1 - y_true) * np.log(1 - y_pred_clipped))\n",
        "        mean_loss = np.mean(sample_losses)\n",
        "        self.output = mean_loss\n",
        "        return mean_loss\n",
        "\n",
        "\n",
        "    def backward(self, dvalues, y_true):\n",
        "        samples = len(dvalues)\n",
        "        clipped_values = np.clip(dvalues, 1e-7, 1 - 1e-7)\n",
        "        # self.dinputs = -(y_true / clipped_values - (1 - y_true) / (1 - clipped_values)) / samples\n",
        "        self.dinputs = -(w1 * y_true / clipped_values - w0 * (1 - y_true) / (1 - clipped_values)) / samples\n"
      ]
    },
    {
      "cell_type": "code",
      "execution_count": null,
      "metadata": {
        "id": "KF8JEPJ4Hcb3"
      },
      "outputs": [],
      "source": [
        "\n",
        "class Optimizer_SGD:\n",
        "\n",
        "    def __init__(self, learning_rate = 0.03):\n",
        "        self.learning_rate = learning_rate\n",
        "\n",
        "    def update_params(self, layer):\n",
        "        layer.weights += -self.learning_rate * layer.dweights\n",
        "        layer.biases += -self.learning_rate * layer.dbiases"
      ]
    },
    {
      "cell_type": "code",
      "execution_count": null,
      "metadata": {
        "id": "v1dpF0vCZWYJ"
      },
      "outputs": [],
      "source": [
        "def get_batches(X, y, batch_size):\n",
        "    indices = np.arange(len(X))\n",
        "    np.random.shuffle(indices)\n",
        "    X_shuffled, y_shuffled = X[indices], y[indices]\n",
        "    for i in range(0, len(X), batch_size):\n",
        "\n",
        "        yield X_shuffled[i:i + batch_size], y_shuffled[i:i + batch_size]\n"
      ]
    },
    {
      "cell_type": "code",
      "execution_count": null,
      "metadata": {
        "colab": {
          "base_uri": "https://localhost:8080/"
        },
        "id": "ExwcfTn7rzlU",
        "outputId": "1b4d7989-3d24-4a70-c779-a7c4e8841ec8"
      },
      "outputs": [
        {
          "output_type": "stream",
          "name": "stdout",
          "text": [
            "(57567, 9)\n",
            "(57567,)\n"
          ]
        }
      ],
      "source": [
        "print(X_train.shape)\n",
        "print(y_train.shape)"
      ]
    },
    {
      "cell_type": "code",
      "execution_count": null,
      "metadata": {
        "id": "vHlRAj94HewL"
      },
      "outputs": [],
      "source": [
        "dense1 = Layer_Dense(X_train.shape[1], 64, 'he')\n",
        "activation1 = Activation_ReLU()\n",
        "\n",
        "# dense2 = Layer_Dense(128,64, 'he')\n",
        "# activation2 = Activation_ReLU()\n",
        "\n",
        "\n",
        "# dense2.O = Layer_Dense(64,32, 'he')\n",
        "# activation2.O = Activation_ReLU()\n",
        "\n",
        "dense3 = Layer_Dense(64, 32, 'he')\n",
        "activation3 = Activation_ReLU()\n",
        "\n",
        "dense4 = Layer_Dense(32, 1, 'xavier')\n",
        "activation4 = Sigmoid_Activation()\n",
        "\n",
        "loss_function = wieghted_binarycrossentropy()\n",
        "optimizer = Optimizer_SGD()"
      ]
    },
    {
      "cell_type": "code",
      "execution_count": null,
      "metadata": {
        "id": "QVG49Q2L7X8R"
      },
      "outputs": [],
      "source": [
        "from tqdm import trange"
      ]
    },
    {
      "cell_type": "code",
      "execution_count": null,
      "metadata": {
        "colab": {
          "base_uri": "https://localhost:8080/"
        },
        "id": "0PW7uwv4HiDz",
        "outputId": "d893bc48-1d1d-418f-cabe-8384ca60dc59"
      },
      "outputs": [
        {
          "output_type": "stream",
          "name": "stderr",
          "text": [
            "Training Epochs:   0%|          | 1/2000 [00:02<1:35:40,  2.87s/it]"
          ]
        },
        {
          "output_type": "stream",
          "name": "stdout",
          "text": [
            "Epoch 0, Learning Rate: 0.100000\n",
            "Epoch 0, Accuracy: 0.549, Loss: 1.000\n"
          ]
        },
        {
          "output_type": "stream",
          "name": "stderr",
          "text": [
            "Training Epochs:   5%|▌         | 101/2000 [01:00<07:43,  4.10it/s]"
          ]
        },
        {
          "output_type": "stream",
          "name": "stdout",
          "text": [
            "Epoch 100, Learning Rate: 0.050000\n",
            "Epoch 100, Accuracy: 0.579, Loss: 0.965\n"
          ]
        },
        {
          "output_type": "stream",
          "name": "stderr",
          "text": [
            "Training Epochs:  10%|█         | 201/2000 [01:32<07:19,  4.10it/s]"
          ]
        },
        {
          "output_type": "stream",
          "name": "stdout",
          "text": [
            "Epoch 200, Learning Rate: 0.033333\n",
            "Epoch 200, Accuracy: 0.583, Loss: 0.962\n"
          ]
        },
        {
          "output_type": "stream",
          "name": "stderr",
          "text": [
            "Training Epochs:  15%|█▌        | 301/2000 [02:06<12:54,  2.19it/s]"
          ]
        },
        {
          "output_type": "stream",
          "name": "stdout",
          "text": [
            "Epoch 300, Learning Rate: 0.025000\n",
            "Epoch 300, Accuracy: 0.583, Loss: 0.960\n"
          ]
        },
        {
          "output_type": "stream",
          "name": "stderr",
          "text": [
            "Training Epochs:  20%|██        | 401/2000 [02:40<22:38,  1.18it/s]"
          ]
        },
        {
          "output_type": "stream",
          "name": "stdout",
          "text": [
            "Epoch 400, Learning Rate: 0.020000\n",
            "Epoch 400, Accuracy: 0.583, Loss: 0.959\n"
          ]
        },
        {
          "output_type": "stream",
          "name": "stderr",
          "text": [
            "Training Epochs:  25%|██▌       | 501/2000 [03:12<08:00,  3.12it/s]"
          ]
        },
        {
          "output_type": "stream",
          "name": "stdout",
          "text": [
            "Epoch 500, Learning Rate: 0.016667\n",
            "Epoch 500, Accuracy: 0.583, Loss: 0.958\n"
          ]
        },
        {
          "output_type": "stream",
          "name": "stderr",
          "text": [
            "Training Epochs:  30%|███       | 601/2000 [03:43<05:56,  3.92it/s]"
          ]
        },
        {
          "output_type": "stream",
          "name": "stdout",
          "text": [
            "Epoch 600, Learning Rate: 0.014286\n",
            "Epoch 600, Accuracy: 0.586, Loss: 0.958\n"
          ]
        },
        {
          "output_type": "stream",
          "name": "stderr",
          "text": [
            "Training Epochs:  35%|███▌      | 701/2000 [04:15<04:58,  4.35it/s]"
          ]
        },
        {
          "output_type": "stream",
          "name": "stdout",
          "text": [
            "Epoch 700, Learning Rate: 0.012500\n",
            "Epoch 700, Accuracy: 0.586, Loss: 0.957\n"
          ]
        },
        {
          "output_type": "stream",
          "name": "stderr",
          "text": [
            "Training Epochs:  40%|████      | 801/2000 [04:46<04:46,  4.19it/s]"
          ]
        },
        {
          "output_type": "stream",
          "name": "stdout",
          "text": [
            "Epoch 800, Learning Rate: 0.011111\n",
            "Epoch 800, Accuracy: 0.592, Loss: 0.955\n"
          ]
        },
        {
          "output_type": "stream",
          "name": "stderr",
          "text": [
            "Training Epochs:  45%|████▌     | 901/2000 [05:17<04:11,  4.37it/s]"
          ]
        },
        {
          "output_type": "stream",
          "name": "stdout",
          "text": [
            "Epoch 900, Learning Rate: 0.010000\n",
            "Epoch 900, Accuracy: 0.589, Loss: 0.956\n"
          ]
        },
        {
          "output_type": "stream",
          "name": "stderr",
          "text": [
            "Training Epochs:  50%|█████     | 1001/2000 [05:48<03:51,  4.32it/s]"
          ]
        },
        {
          "output_type": "stream",
          "name": "stdout",
          "text": [
            "Epoch 1000, Learning Rate: 0.009091\n",
            "Epoch 1000, Accuracy: 0.587, Loss: 0.956\n"
          ]
        },
        {
          "output_type": "stream",
          "name": "stderr",
          "text": [
            "Training Epochs:  55%|█████▌    | 1101/2000 [06:20<03:31,  4.26it/s]"
          ]
        },
        {
          "output_type": "stream",
          "name": "stdout",
          "text": [
            "Epoch 1100, Learning Rate: 0.008333\n",
            "Epoch 1100, Accuracy: 0.590, Loss: 0.955\n"
          ]
        },
        {
          "output_type": "stream",
          "name": "stderr",
          "text": [
            "Training Epochs:  60%|██████    | 1201/2000 [06:51<03:09,  4.23it/s]"
          ]
        },
        {
          "output_type": "stream",
          "name": "stdout",
          "text": [
            "Epoch 1200, Learning Rate: 0.007692\n",
            "Epoch 1200, Accuracy: 0.588, Loss: 0.956\n"
          ]
        },
        {
          "output_type": "stream",
          "name": "stderr",
          "text": [
            "Training Epochs:  65%|██████▌   | 1301/2000 [07:23<02:51,  4.07it/s]"
          ]
        },
        {
          "output_type": "stream",
          "name": "stdout",
          "text": [
            "Epoch 1300, Learning Rate: 0.007143\n",
            "Epoch 1300, Accuracy: 0.587, Loss: 0.954\n"
          ]
        },
        {
          "output_type": "stream",
          "name": "stderr",
          "text": [
            "Training Epochs:  70%|███████   | 1401/2000 [07:58<09:15,  1.08it/s]"
          ]
        },
        {
          "output_type": "stream",
          "name": "stdout",
          "text": [
            "Epoch 1400, Learning Rate: 0.006667\n",
            "Epoch 1400, Accuracy: 0.587, Loss: 0.955\n"
          ]
        },
        {
          "output_type": "stream",
          "name": "stderr",
          "text": [
            "Training Epochs:  75%|███████▌  | 1501/2000 [08:29<02:36,  3.18it/s]"
          ]
        },
        {
          "output_type": "stream",
          "name": "stdout",
          "text": [
            "Epoch 1500, Learning Rate: 0.006250\n",
            "Epoch 1500, Accuracy: 0.593, Loss: 0.955\n"
          ]
        },
        {
          "output_type": "stream",
          "name": "stderr",
          "text": [
            "Training Epochs:  80%|████████  | 1601/2000 [09:04<01:40,  3.97it/s]"
          ]
        },
        {
          "output_type": "stream",
          "name": "stdout",
          "text": [
            "Epoch 1600, Learning Rate: 0.005882\n",
            "Epoch 1600, Accuracy: 0.590, Loss: 0.955\n"
          ]
        },
        {
          "output_type": "stream",
          "name": "stderr",
          "text": [
            "Training Epochs:  85%|████████▌ | 1701/2000 [09:36<01:09,  4.33it/s]"
          ]
        },
        {
          "output_type": "stream",
          "name": "stdout",
          "text": [
            "Epoch 1700, Learning Rate: 0.005556\n",
            "Epoch 1700, Accuracy: 0.593, Loss: 0.953\n"
          ]
        },
        {
          "output_type": "stream",
          "name": "stderr",
          "text": [
            "Training Epochs:  90%|█████████ | 1801/2000 [10:07<00:47,  4.18it/s]"
          ]
        },
        {
          "output_type": "stream",
          "name": "stdout",
          "text": [
            "Epoch 1800, Learning Rate: 0.005263\n",
            "Epoch 1800, Accuracy: 0.592, Loss: 0.954\n"
          ]
        },
        {
          "output_type": "stream",
          "name": "stderr",
          "text": [
            "Training Epochs:  95%|█████████▌| 1901/2000 [10:39<00:22,  4.41it/s]"
          ]
        },
        {
          "output_type": "stream",
          "name": "stdout",
          "text": [
            "Epoch 1900, Learning Rate: 0.005000\n",
            "Epoch 1900, Accuracy: 0.595, Loss: 0.953\n"
          ]
        },
        {
          "output_type": "stream",
          "name": "stderr",
          "text": [
            "Training Epochs: 100%|██████████| 2000/2000 [11:10<00:00,  2.98it/s]"
          ]
        },
        {
          "output_type": "stream",
          "name": "stdout",
          "text": [
            "Convergence Time: 670.81 seconds\n"
          ]
        },
        {
          "output_type": "stream",
          "name": "stderr",
          "text": [
            "\n"
          ]
        }
      ],
      "source": [
        "# Training loop with batching\n",
        "loss_history = []\n",
        "batch_size = 1024\n",
        "epochs = 2000\n",
        "\n",
        "initial_lr = 0.1\n",
        "decay_rate = 0.01\n",
        "lr_history = []\n",
        "\n",
        "start_time = time.time()\n",
        "for epoch in trange(epochs,desc=\"Training Epochs\"):\n",
        "    epoch_loss = 0\n",
        "    epoch_accuracy = 0\n",
        "    num_batches = 0\n",
        "\n",
        "    current_lr = initial_lr / (1 + decay_rate * epoch)\n",
        "    optimizer.learning_rate = current_lr\n",
        "    lr_history.append(current_lr)\n",
        "\n",
        "\n",
        "    for X_batch, y_batch in get_batches(X_train, y_train, batch_size):\n",
        "        # Forward pass\n",
        "        dense1.forward(X_batch)\n",
        "        activation1.forward(dense1.outputs)\n",
        "\n",
        "        # dense2.forward(activation1.output)\n",
        "        # activation2.forward(dense2.outputs)\n",
        "\n",
        "        # dense2.O.forward(activation2.output)\n",
        "        # activation2.O.forward(dense2.O.outputs)\n",
        "\n",
        "\n",
        "        dense3.forward(activation1.output)\n",
        "        activation3.forward(dense3.outputs)\n",
        "\n",
        "        dense4.forward(activation3.output)\n",
        "        activation4.forward(dense4.outputs)\n",
        "\n",
        "        # Compute loss\n",
        "        loss = loss_function.forward(activation4.output, y_batch.reshape(-1, 1))\n",
        "        # epoch_loss += loss\n",
        "\n",
        "\n",
        "        # Accuracy\n",
        "        predictions = (activation4.output > 0.5).astype(int).flatten()\n",
        "        accuracy = np.mean(predictions == y_batch)\n",
        "        epoch_accuracy += accuracy\n",
        "\n",
        "        # Backward pass\n",
        "        loss_function.backward(activation4.output, y_batch.reshape(-1, 1))\n",
        "        activation4.backward(loss_function.dinputs)\n",
        "        dense4.backward(activation4.dinputs)\n",
        "        activation3.backward(dense4.dinputs)\n",
        "        dense3.backward(activation3.dinputs)\n",
        "        # activation2.O.backward(dense3.dinputs)\n",
        "        # dense2.O.backward(activation2.O.dinputs)\n",
        "        # activation2.backward(dense3.dinputs)\n",
        "        # dense2.backward(activation2.dinputs)\n",
        "        activation1.backward(dense3.dinputs)\n",
        "        dense1.backward(activation1.dinputs)\n",
        "\n",
        "        # Update weights\n",
        "        optimizer.update_params(dense1)\n",
        "        # optimizer.update_params(dense2)\n",
        "        # optimizer.update_params(dense2.O)\n",
        "        optimizer.update_params(dense3)\n",
        "        optimizer.update_params(dense4)\n",
        "        num_batches += 1\n",
        "\n",
        "\n",
        "        loss = loss_function.forward(activation4.output, y_batch.reshape(-1, 1))\n",
        "        epoch_loss += loss\n",
        "\n",
        "    loss_history.append(epoch_loss / num_batches)\n",
        "    # print(f'Epoch {epoch} : {epoch_loss/num_batches}')\n",
        "    # Epoch summary\n",
        "    if epoch % 100 == 0:\n",
        "      # print(epoch_loss)\n",
        "      print(f\"Epoch {epoch}, Learning Rate: {current_lr:.6f}\")\n",
        "      print(f\"Epoch {epoch}, Accuracy: {epoch_accuracy / num_batches:.3f}, Loss: {epoch_loss / num_batches:.3f}\")\n",
        "end_time = time.time()\n",
        "\n",
        "Convergence_time = end_time - start_time\n",
        "print(f\"Convergence Time: {Convergence_time:.2f} seconds\")"
      ]
    },
    {
      "cell_type": "code",
      "execution_count": null,
      "metadata": {
        "id": "swo7Q2eIYZhk",
        "colab": {
          "base_uri": "https://localhost:8080/"
        },
        "outputId": "205519c1-c034-47d7-833c-02bc9bbab8ae"
      },
      "outputs": [
        {
          "output_type": "stream",
          "name": "stdout",
          "text": [
            "First logged loss (epoch 0): 1.0001106044605974\n",
            "[np.float64(1.0001106044605974), np.float64(0.9818320715040497), np.float64(0.9760784326751053), np.float64(0.9753088888180885), np.float64(0.9743138217934529)]\n",
            "2000\n"
          ]
        }
      ],
      "source": [
        "print(\"First logged loss (epoch 0):\", loss_history[0])\n",
        "print(loss_history[:5])\n",
        "print(len(loss_history))"
      ]
    },
    {
      "cell_type": "code",
      "execution_count": null,
      "metadata": {
        "id": "qFxLtD2LX469",
        "colab": {
          "base_uri": "https://localhost:8080/",
          "height": 607
        },
        "outputId": "55da66d6-420d-409e-97d1-3cfb83ffe8b3"
      },
      "outputs": [
        {
          "output_type": "display_data",
          "data": {
            "text/plain": [
              "<Figure size 1000x600 with 1 Axes>"
            ],
            "image/png": "[encoded data removed]"
          },
          "metadata": {}
        }
      ],
      "source": [
        "epochs = range(len(loss_history))\n",
        "plt.figure(figsize=(10, 6))\n",
        "plt.plot(epochs, loss_history, label='Training Loss', color='blue')\n",
        "plt.title('Convergence Plot: Loss vs Epoch')\n",
        "plt.xlabel('Epoch')\n",
        "plt.ylabel('Loss')\n",
        "plt.grid(True)\n",
        "plt.legend()\n",
        "plt.tight_layout()\n",
        "plt.show()"
      ]
    },
    {
      "cell_type": "code",
      "execution_count": null,
      "metadata": {
        "id": "IeK5P3z6Hof4"
      },
      "outputs": [],
      "source": [
        " # Forward pass on validation data\n",
        "dense1.forward(X_val)\n",
        "activation1.forward(dense1.outputs)\n",
        "\n",
        "# dense2.forward(activation1.output)\n",
        "# activation2.forward(dense2.outputs)\n",
        "\n",
        "# dense2.O.forward(activation2.output)\n",
        "# activation2.O.forward(dense2.O.outputs)\n",
        "\n",
        "dense3.forward(activation1.output)\n",
        "activation3.forward(dense3.outputs)\n",
        "\n",
        "dense4.forward(activation3.output)\n",
        "activation4.forward(dense4.outputs)\n",
        "\n",
        "\n",
        "y_pred_probs = activation4.output\n",
        "# y_pred = (y_pred_probs > 0.19465).astype(int).flatten()\n"
      ]
    },
    {
      "cell_type": "code",
      "execution_count": null,
      "metadata": {
        "id": "Zlh_ayJDHrDD"
      },
      "outputs": [],
      "source": [
        "# Ground truth and predicted labels\n",
        "y_true = y_val.flatten()\n",
        "# y_pred = (y_pred_probs > 0.3948098606651744).astype(int).flatten()  # Predicted labels (binary)\n",
        "y_pred = (y_pred_probs >  0.5).astype(int).flatten()"
      ]
    },
    {
      "cell_type": "code",
      "execution_count": null,
      "metadata": {
        "id": "dbVHU6p_EBj5",
        "colab": {
          "base_uri": "https://localhost:8080/"
        },
        "outputId": "ea0bd5b6-852c-4856-f0f3-d38f522e2f68"
      },
      "outputs": [
        {
          "output_type": "stream",
          "name": "stdout",
          "text": [
            "(14392, 1)\n",
            "(14392,)\n",
            "(14392,)\n"
          ]
        }
      ],
      "source": [
        "print(y_pred_probs.shape)\n",
        "print(y_pred.shape)\n",
        "print(y_true.shape)"
      ]
    },
    {
      "cell_type": "code",
      "execution_count": null,
      "metadata": {
        "id": "t7f018CwgzxI"
      },
      "outputs": [],
      "source": [
        "from sklearn.metrics import accuracy_score, f1_score, average_precision_score, confusion_matrix, precision_recall_curve\n"
      ]
    },
    {
      "cell_type": "code",
      "execution_count": null,
      "metadata": {
        "id": "lrRHGb4GMGem",
        "colab": {
          "base_uri": "https://localhost:8080/",
          "height": 1000
        },
        "outputId": "0904599d-3c01-45d5-8dbb-d9e8efc188a7"
      },
      "outputs": [
        {
          "output_type": "display_data",
          "data": {
            "text/plain": [
              "<Figure size 800x600 with 1 Axes>"
            ],
            "image/png": "[encoded data removed]"
          },
          "metadata": {}
        },
        {
          "output_type": "display_data",
          "data": {
            "text/plain": [
              "<Figure size 800x600 with 1 Axes>"
            ],
            "image/png": "[encoded data removed]"
          },
          "metadata": {}
        }
      ],
      "source": [
        "import matplotlib.pyplot as plt\n",
        "\n",
        "prec, rec, thresholds = precision_recall_curve(y_val, y_pred_probs)\n",
        "plt.figure(figsize=(8, 6))\n",
        "plt.plot(rec, prec)\n",
        "plt.xlabel(\"Recall\")\n",
        "plt.ylabel(\"Precision\")\n",
        "plt.title(\"Precision-Recall Curve\")\n",
        "plt.grid(True)\n",
        "plt.show()\n",
        "\n",
        "from sklearn.metrics import roc_curve, roc_auc_score\n",
        "\n",
        "\n",
        "\n",
        "fpr, tpr, thresholds = roc_curve(y_val, y_pred_probs)\n",
        "\n",
        "\n",
        "roc_auc = roc_auc_score(y_val, y_pred_probs)\n",
        "\n",
        "\n",
        "plt.figure(figsize=(8, 6))\n",
        "plt.plot(fpr, tpr, label=f'ROC Curve (AUC = {roc_auc:.4f})', color='blue')\n",
        "plt.plot([0, 1], [0, 1], linestyle='--', color='gray')  # Diagonal line\n",
        "plt.xlabel('False Positive Rate')\n",
        "plt.ylabel('True Positive Rate (Recall)')\n",
        "plt.title('ROC Curve')\n",
        "plt.legend(loc='lower right')\n",
        "plt.grid(True)\n",
        "plt.show()\n"
      ]
    },
    {
      "cell_type": "code",
      "execution_count": null,
      "metadata": {
        "id": "qNZCGvpBg3rj",
        "colab": {
          "base_uri": "https://localhost:8080/"
        },
        "outputId": "2ba0891c-f673-4abe-c537-70d8da06d566"
      },
      "outputs": [
        {
          "output_type": "stream",
          "name": "stdout",
          "text": [
            "Accuracy: 0.5691\n",
            "F1-score: 0.4312\n",
            "Recall: 0.5627\n",
            "Precision: 0.3495\n",
            "PR-AUC: 0.3642\n",
            "Confusion Matrix:\n",
            "[[5839 4375]\n",
            " [1827 2351]]\n"
          ]
        }
      ],
      "source": [
        "\n",
        "acc = accuracy_score(y_val, y_pred)\n",
        "\n",
        "\n",
        "f1 = f1_score(y_val, y_pred)\n",
        "\n",
        "pr_auc = average_precision_score(y_val, y_pred_probs)\n",
        "\n",
        "recall = recall_score(y_val, y_pred)\n",
        "precision = precision_score(y_val,y_pred)\n",
        "\n",
        "cm = confusion_matrix(y_val, y_pred)\n",
        "\n",
        "print(f\"Accuracy: {acc:.4f}\")\n",
        "print(f\"F1-score: {f1:.4f}\")\n",
        "print(f\"Recall: {recall:.4f}\")\n",
        "print(f\"Precision: {precision:.4f}\")\n",
        "print(f\"PR-AUC: {pr_auc:.4f}\")\n",
        "print(\"Confusion Matrix:\")\n",
        "print(cm)\n"
      ]
    },
    {
      "cell_type": "code",
      "execution_count": null,
      "metadata": {
        "id": "5RGMQns7gnVB",
        "colab": {
          "base_uri": "https://localhost:8080/"
        },
        "outputId": "c7b75211-dc98-40c0-ec8d-d73c4241e18d"
      },
      "outputs": [
        {
          "output_type": "stream",
          "name": "stdout",
          "text": [
            "Best F1-score: 0.45792935114245037\n",
            "Best Threshold Value: 0.41621327029302757\n"
          ]
        }
      ],
      "source": [
        "\n",
        "prec, rec, thresholds = precision_recall_curve(y_val, y_pred_probs)\n",
        "\n",
        "\n",
        "with np.errstate(divide='ignore', invalid='ignore'):\n",
        "    f1_scores = 2 * prec * rec / (prec + rec)\n",
        "    f1_scores[np.isnan(f1_scores)] = 0\n",
        "\n",
        "best_threshold_index = np.argmax(f1_scores)\n",
        "best_threshold_value = thresholds[best_threshold_index]\n",
        "\n",
        "print(\"Best F1-score:\", f1_scores[best_threshold_index])\n",
        "print(\"Best Threshold Value:\", best_threshold_value)\n"
      ]
    },
    {
      "cell_type": "code",
      "execution_count": null,
      "metadata": {
        "id": "LbnalOqNcTDi",
        "colab": {
          "base_uri": "https://localhost:8080/"
        },
        "outputId": "8a2c6b84-c00a-447e-f5b0-bccb364d8098"
      },
      "outputs": [
        {
          "output_type": "stream",
          "name": "stdout",
          "text": [
            "Well done my boy!!!!!\n"
          ]
        }
      ],
      "source": [
        "print(\"Well done my boy!!!!!\")"
      ]
    },
    {
      "cell_type": "code",
      "source": [
        "from sklearn.metrics import confusion_matrix\n",
        "import seaborn as sns\n",
        "\n",
        "\n",
        "\n",
        "cm = confusion_matrix(y_val, y_pred)\n",
        "\n",
        "\n",
        "labels = ['Show', 'No-show']\n",
        "\n",
        "plt.figure(figsize=(6, 5))\n",
        "sns.heatmap(cm, annot=True, fmt='d', cmap='Blues',\n",
        "            xticklabels=labels, yticklabels=labels)\n",
        "\n",
        "plt.xlabel('Predicted Label')\n",
        "plt.ylabel('True Label')\n",
        "plt.title('Confusion Matrix')\n",
        "plt.tight_layout()\n",
        "plt.show()\n",
        "\n"
      ],
      "metadata": {
        "id": "QvwyV6LyoIVR",
        "colab": {
          "base_uri": "https://localhost:8080/",
          "height": 507
        },
        "outputId": "11a258dc-d444-43aa-c913-b4b8f747e0b0"
      },
      "execution_count": null,
      "outputs": [
        {
          "output_type": "display_data",
          "data": {
            "text/plain": [
              "<Figure size 600x500 with 2 Axes>"
            ],
            "image/png": "[encoded data removed]"
          },
          "metadata": {}
        }
      ]
    },
    {
      "cell_type": "code",
      "source": [],
      "metadata": {
        "id": "lr1QzDdF1H-9"
      },
      "execution_count": null,
      "outputs": []
    }
  ],
  "metadata": {
    "accelerator": "GPU",
    "colab": {
      "gpuType": "T4",
      "provenance": []
    },
    "kernelspec": {
      "display_name": "Python 3",
      "name": "python3"
    },
    "language_info": {
      "name": "python"
    }
  },
  "nbformat": 4,
  "nbformat_minor": 0
}